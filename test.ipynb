async def draw_match_table(match):
	is_parsed = match.get("version")
	table = Table(background=discord_color2)
	is_ability_draft = match["game_mode"] == 18
	# Header
	headers = [
		TextCell("", padding=0),
		TextCell(""),
		TextCell(""),
		TextCell("K", horizontal_align="center"),
		TextCell("D", horizontal_align="center"),
		TextCell("A", horizontal_align="center"),
		TextCell("GPM", color="yellow"),
		TextCell("T", horizontal_align="center"),
		TextCell("Items")
	]
	if is_parsed:
		headers[-2:-2] = [
			TextCell("APM"),
			TextCell("Lane"),
			TextCell("Pings")
		]
	if is_ability_draft:
		headers[3:3] = [
			TextCell("Abilities")
		]
	table.add_row(headers)
	for cell in table.rows[0]:
		cell.background = discord_color1

	# Do players
	for player in match["players"]:
		if player['isRadiant']:
			await add_player_row(table, player, is_parsed, is_ability_draft)
	table.add_row([ColorCell(color=discord_color1, height=5) for i in range(len(headers))])
	for player in match["players"]:
		if not player['isRadiant']:
			await add_player_row(table, player, is_parsed, is_ability_draft)
	return table.render()
